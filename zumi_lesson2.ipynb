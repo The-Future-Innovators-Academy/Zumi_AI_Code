{
  "nbformat": 4,
  "nbformat_minor": 0,
  "metadata": {
    "colab": {
      "provenance": [],
      "authorship_tag": "ABX9TyOtAmT5EP3y34+y0X0UlVPB",
      "include_colab_link": true
    },
    "kernelspec": {
      "name": "python3",
      "display_name": "Python 3"
    },
    "language_info": {
      "name": "python"
    }
  },
  "cells": [
    {
      "cell_type": "markdown",
      "metadata": {
        "id": "view-in-github",
        "colab_type": "text"
      },
      "source": [
        "<a href=\"https://colab.research.google.com/github/The-Future-Innovators-Academy/Zumi_AI_Code/blob/main/zumi_lesson2.ipynb\" target=\"_parent\"><img src=\"https://colab.research.google.com/assets/colab-badge.svg\" alt=\"Open In Colab\"/></a>"
      ]
    },
    {
      "cell_type": "markdown",
      "source": [
        "Initialize Zumi"
      ],
      "metadata": {
        "id": "aHi7JP8W4pio"
      }
    },
    {
      "cell_type": "code",
      "execution_count": null,
      "metadata": {
        "id": "COjAjNSG4gPe"
      },
      "outputs": [],
      "source": [
        "from zumi.zumi import Zumi\n",
        "import time\n",
        "\n",
        "zumi = Zumi()"
      ]
    },
    {
      "cell_type": "markdown",
      "source": [
        "Example Input"
      ],
      "metadata": {
        "id": "ploH8JfZ5KzW"
      }
    },
    {
      "cell_type": "code",
      "source": [
        "my_name = input(\"What is your name? \")\n",
        "print(\"Hello,\",my_name)"
      ],
      "metadata": {
        "colab": {
          "base_uri": "https://localhost:8080/"
        },
        "id": "qU4erlaT4oqS",
        "outputId": "08edab6c-7dfe-4201-95db-2e6cb32d7dda"
      },
      "execution_count": 3,
      "outputs": [
        {
          "output_type": "stream",
          "name": "stdout",
          "text": [
            "What is your name? Dev\n",
            "Hello, Dev\n"
          ]
        }
      ]
    },
    {
      "cell_type": "markdown",
      "source": [
        "Remote Control"
      ],
      "metadata": {
        "id": "CPM7cSNS64_o"
      }
    },
    {
      "cell_type": "code",
      "source": [
        "#TODO Finish the rest of the missing if statements\n",
        "\n",
        "while True:\n",
        "    direction = input(\"Please enter a command: \")\n",
        "\n",
        "    if direction == \"q\":\n",
        "      break\n",
        "\n",
        "    if direction == \"w\":\n",
        "      zumi.forward()\n",
        "\n",
        "    if direction == \"s\":\n",
        "      zumi.zumi.go_reverse(40,0)\n",
        "\n",
        "    if direction == \"a\":\n",
        "      zumi.circle_left()\n",
        "\n",
        "    if direction == \"d\":\n",
        "      zumi.circle_right()\n"
      ],
      "metadata": {
        "id": "1lmrQgjq5Ms6"
      },
      "execution_count": null,
      "outputs": []
    }
  ]
}