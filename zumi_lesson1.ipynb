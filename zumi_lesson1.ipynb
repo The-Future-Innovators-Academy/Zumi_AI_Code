{
  "nbformat": 4,
  "nbformat_minor": 0,
  "metadata": {
    "colab": {
      "provenance": [],
      "authorship_tag": "ABX9TyP4kHqyap4214FeMF4DDISt",
      "include_colab_link": true
    },
    "kernelspec": {
      "name": "python3",
      "display_name": "Python 3"
    },
    "language_info": {
      "name": "python"
    }
  },
  "cells": [
    {
      "cell_type": "markdown",
      "metadata": {
        "id": "view-in-github",
        "colab_type": "text"
      },
      "source": [
        "<a href=\"https://colab.research.google.com/github/The-Future-Innovators-Academy/Zumi_AI_Code/blob/main/zumi_lesson1.ipynb\" target=\"_parent\"><img src=\"https://colab.research.google.com/assets/colab-badge.svg\" alt=\"Open In Colab\"/></a>"
      ]
    },
    {
      "cell_type": "markdown",
      "source": [
        "Connect to our Zumi (Wifi has to be connected)"
      ],
      "metadata": {
        "id": "ddSlf43cBfKT"
      }
    },
    {
      "cell_type": "code",
      "execution_count": null,
      "metadata": {
        "id": "iHNyIo0r-iF4"
      },
      "outputs": [],
      "source": [
        "from zumi.zumi import Zumi\n",
        "import time\n",
        "\n",
        "zumi = Zumi()"
      ]
    },
    {
      "cell_type": "markdown",
      "source": [
        "Turn Zumi (in degrees)"
      ],
      "metadata": {
        "id": "uybyByoaCDDV"
      }
    },
    {
      "cell_type": "code",
      "source": [
        "zumi.turn_right(45)"
      ],
      "metadata": {
        "id": "5N81GnuHAAH6"
      },
      "execution_count": null,
      "outputs": []
    },
    {
      "cell_type": "markdown",
      "source": [
        "Recalibrate"
      ],
      "metadata": {
        "id": "bEsAM6CqCyml"
      }
    },
    {
      "cell_type": "code",
      "source": [
        "zumi.mpu.calibrate_MPU()"
      ],
      "metadata": {
        "id": "phXELm3XBkmD"
      },
      "execution_count": null,
      "outputs": []
    },
    {
      "cell_type": "markdown",
      "source": [
        "Move Forward"
      ],
      "metadata": {
        "id": "rCA8PxuFDknf"
      }
    },
    {
      "cell_type": "code",
      "source": [
        "zumi.forward()\n",
        "\n",
        "# With Parameters\n",
        "\n",
        "zumi.forward(speed=30, duration=2)"
      ],
      "metadata": {
        "id": "8v7Xd-6zDmDA"
      },
      "execution_count": null,
      "outputs": []
    },
    {
      "cell_type": "code",
      "source": [
        "zumi.play_note(1, note_duration=500)"
      ],
      "metadata": {
        "id": "oFmNXo_2FasK"
      },
      "execution_count": null,
      "outputs": []
    }
  ]
}