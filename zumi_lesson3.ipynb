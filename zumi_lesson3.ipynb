{
  "nbformat": 4,
  "nbformat_minor": 0,
  "metadata": {
    "colab": {
      "provenance": [],
      "authorship_tag": "ABX9TyNIuDAbZy+1cXvCod5j3AJy",
      "include_colab_link": true
    },
    "kernelspec": {
      "name": "python3",
      "display_name": "Python 3"
    },
    "language_info": {
      "name": "python"
    }
  },
  "cells": [
    {
      "cell_type": "markdown",
      "metadata": {
        "id": "view-in-github",
        "colab_type": "text"
      },
      "source": [
        "<a href=\"https://colab.research.google.com/github/The-Future-Innovators-Academy/Zumi_AI_Code/blob/main/zumi_lesson3.ipynb\" target=\"_parent\"><img src=\"https://colab.research.google.com/assets/colab-badge.svg\" alt=\"Open In Colab\"/></a>"
      ]
    },
    {
      "cell_type": "code",
      "execution_count": null,
      "metadata": {
        "id": "1WAZMA3vB_hZ"
      },
      "outputs": [],
      "source": [
        "from zumi.zumi import Zumi\n",
        "import time\n",
        "\n",
        "zumi = Zumi()"
      ]
    },
    {
      "cell_type": "code",
      "source": [
        "* all_lights_on()\n",
        "\n",
        "* all_lights_off()\n",
        "\n",
        "* headlights_on()\n",
        "\n",
        "* headlights_off()\n",
        "\n",
        "* brake_lights_on()\n",
        "\n",
        "* brake_lights_off()\n",
        "\n",
        "* hazard_lights_on()\n",
        "\n",
        "* hazard_lights_off()\n",
        "\n",
        "* signal_left_on()\n",
        "\n",
        "* signal_left_off()\n",
        "\n",
        "* signal_right_on()\n",
        "\n",
        "* signal_right_off()"
      ],
      "metadata": {
        "id": "I9hFgX0BCD3q"
      },
      "execution_count": null,
      "outputs": []
    },
    {
      "cell_type": "code",
      "source": [
        "zumi.signal_right_on()\n",
        "zumi.forward(duration=3)\n",
        "zumi.turn_right()\n",
        "zumi.signal_right_off()\n",
        "zumi.forward()"
      ],
      "metadata": {
        "id": "lesiomIeCGpZ"
      },
      "execution_count": null,
      "outputs": []
    },
    {
      "cell_type": "code",
      "source": [
        "# add lights to remote control code...\n",
        "\n",
        "while True:\n",
        "    direction = input(\"Please enter a command: \")\n",
        "\n",
        "    if direction == \"q\":\n",
        "      break\n",
        "\n",
        "    if direction == \"w\":\n",
        "      zumi.forward()\n",
        "\n",
        "    if direction == \"s\":\n",
        "      zumi.reverse()\n",
        "\n",
        "    if direction == \"a\":\n",
        "      zumi.circle_left()\n",
        "\n",
        "    if direction == \"d\":\n",
        "      zumi.circle_right()"
      ],
      "metadata": {
        "id": "ihXTiua7Codt"
      },
      "execution_count": null,
      "outputs": []
    }
  ]
}